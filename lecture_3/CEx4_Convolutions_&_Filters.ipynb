{
  "cells": [
    {
      "cell_type": "markdown",
      "metadata": {
        "id": "XYf5U7PY_aOz"
      },
      "source": [
        "# Hand-Made Filters and Convolutions\n",
        "## Understanding CNN Building Blocks Through Manual Implementation\n",
        "\n",
        "### Learning Objectives:\n",
        "- Implement convolution operation from scratch\n",
        "- Understand how different filters detect different features\n",
        "- Create custom filters for edge, corner, and other feature detection\n",
        "- Visualize the effects of various convolutional filters\n",
        "\n",
        "### Structure:\n",
        "1. Basic convolution implementation\n",
        "2. Classic edge detection filters (Sobel, Prewitt)\n",
        "3. Diagonal edge detection\n",
        "4. **Exercise:** Corner detection filters\n",
        "5. **Exercise:** Custom feature detection"
      ]
    },
    {
      "cell_type": "markdown",
      "metadata": {
        "id": "7sH8GS9t_aO0"
      },
      "source": [
        "## Setup and Imports"
      ]
    },
    {
      "cell_type": "code",
      "execution_count": null,
      "metadata": {
        "id": "fUznsZqj_aO1"
      },
      "outputs": [],
      "source": [
        "import numpy as np\n",
        "import matplotlib.pyplot as plt\n",
        "from PIL import Image\n",
        "import requests\n",
        "from io import BytesIO\n",
        "from typing import Tuple\n",
        "\n",
        "# Set up matplotlib for better display\n",
        "plt.rcParams['figure.figsize'] = (12, 8)\n",
        "plt.rcParams['image.cmap'] = 'gray'"
      ]
    },
    {
      "cell_type": "markdown",
      "metadata": {
        "id": "vV93wOHP_aO1"
      },
      "source": [
        "## Create Test Images\n",
        "\n",
        "We'll create simple geometric shapes to clearly see the effects of our filters."
      ]
    },
    {
      "cell_type": "code",
      "execution_count": null,
      "metadata": {
        "id": "EEEU_Dlf_aO1"
      },
      "outputs": [],
      "source": [
        "def create_test_images():\n",
        "    \"\"\"Create simple test images with various features.\"\"\"\n",
        "    images = {}\n",
        "\n",
        "    # 1. Vertical and horizontal lines\n",
        "    img_lines = np.zeros((100, 100))\n",
        "    img_lines[40:60, 20] = 255  # Vertical line\n",
        "    img_lines[40:60, 80] = 255  # Vertical line\n",
        "    img_lines[20, 30:70] = 255  # Horizontal line\n",
        "    img_lines[80, 30:70] = 255  # Horizontal line\n",
        "    images['lines'] = img_lines\n",
        "\n",
        "    # 2. Square\n",
        "    img_square = np.zeros((100, 100))\n",
        "    img_square[30:70, 30:70] = 255\n",
        "    images['square'] = img_square\n",
        "\n",
        "    # 3. Diagonal lines\n",
        "    img_diag = np.zeros((100, 100))\n",
        "    for i in range(40):\n",
        "        img_diag[30+i, 30+i] = 255  # Diagonal \\\n",
        "        img_diag[30+i, 70-i] = 255  # Diagonal /\n",
        "    images['diagonals'] = img_diag\n",
        "\n",
        "    # 4. Corners (L-shapes)\n",
        "    img_corners = np.zeros((100, 100))\n",
        "    # Top-left corner\n",
        "    img_corners[20:30, 20] = 255\n",
        "    img_corners[20, 20:30] = 255\n",
        "    # Top-right corner\n",
        "    img_corners[20:30, 70] = 255\n",
        "    img_corners[20, 70:80] = 255\n",
        "    # Bottom-left corner\n",
        "    img_corners[70:80, 20] = 255\n",
        "    img_corners[80, 20:30] = 255\n",
        "    # Bottom-right corner\n",
        "    img_corners[70:80, 70] = 255\n",
        "    img_corners[80, 70:80] = 255\n",
        "    images['corners'] = img_corners\n",
        "\n",
        "    # 5. Circle\n",
        "    img_circle = np.zeros((100, 100))\n",
        "    center = (50, 50)\n",
        "    radius = 25\n",
        "    y, x = np.ogrid[:100, :100]\n",
        "    mask = (x - center[0])**2 + (y - center[1])**2 <= radius**2\n",
        "    img_circle[mask] = 255\n",
        "    images['circle'] = img_circle\n",
        "\n",
        "    return images\n",
        "\n",
        "# Create test images\n",
        "test_images = create_test_images()\n",
        "\n",
        "# Display all test images\n",
        "fig, axes = plt.subplots(1, 5, figsize=(15, 3))\n",
        "for ax, (name, img) in zip(axes, test_images.items()):\n",
        "    ax.imshow(img, cmap='gray')\n",
        "    ax.set_title(name.capitalize())\n",
        "    ax.axis('off')\n",
        "plt.tight_layout()\n",
        "plt.show()"
      ]
    },
    {
      "cell_type": "markdown",
      "metadata": {
        "id": "Q1hsGeD5_aO1"
      },
      "source": [
        "## Part 1: Implementing Convolution from Scratch\n",
        "\n",
        "Let's implement the 2D convolution operation manually to understand exactly what's happening."
      ]
    },
    {
      "cell_type": "code",
      "execution_count": null,
      "metadata": {
        "id": "EnbpRg2x_aO1"
      },
      "outputs": [],
      "source": [
        "def convolve2d(image: np.ndarray, kernel: np.ndarray, padding: str = 'valid') -> np.ndarray:\n",
        "    \"\"\"\n",
        "    Perform 2D convolution operation.\n",
        "\n",
        "    Args:\n",
        "        image: Input image (2D array)\n",
        "        kernel: Convolution kernel (2D array)\n",
        "        padding: 'valid' (no padding) or 'same' (preserve size)\n",
        "\n",
        "    Returns:\n",
        "        Convolved image\n",
        "    \"\"\"\n",
        "    # Get dimensions\n",
        "    image_height, image_width = image.shape\n",
        "    kernel_height, kernel_width = kernel.shape\n",
        "\n",
        "    # Apply padding if needed\n",
        "    if padding == 'same':\n",
        "        pad_h = kernel_height // 2\n",
        "        pad_w = kernel_width // 2\n",
        "        image = np.pad(image, ((pad_h, pad_h), (pad_w, pad_w)), mode='constant')\n",
        "        image_height, image_width = image.shape\n",
        "\n",
        "    # Calculate output dimensions\n",
        "    output_height = image_height - kernel_height + 1\n",
        "    output_width = image_width - kernel_width + 1\n",
        "\n",
        "    # Initialize output\n",
        "    output = np.zeros((output_height, output_width))\n",
        "\n",
        "    # Perform convolution\n",
        "    for i in range(output_height):\n",
        "        for j in range(output_width):\n",
        "            # Extract region\n",
        "            region = image[i:i+kernel_height, j:j+kernel_width]\n",
        "            # Element-wise multiplication and sum\n",
        "            output[i, j] = np.sum(region * kernel)\n",
        "\n",
        "    return output"
      ]
    },
    {
      "cell_type": "code",
      "source": [
        "# Test with a simple averaging kernel\n",
        "averaging_kernel = np.ones((3, 3)) / 9\n",
        "print(\"Averaging kernel:\")\n",
        "print(averaging_kernel)"
      ],
      "metadata": {
        "id": "4UXR_Zcn_8y0"
      },
      "execution_count": null,
      "outputs": []
    },
    {
      "cell_type": "code",
      "source": [
        "# Apply to a diagonals image with size-preserving padding\n",
        "print(f\"Input image dimensions: {test_images['diagonals'].shape}\")\n",
        "result = convolve2d(test_images['diagonals'], averaging_kernel, padding='same')\n",
        "print(f\"Output image dimensions: {result.shape}\")\n",
        "\n",
        "fig, (ax1, ax2) = plt.subplots(1, 2, figsize=(10, 4))\n",
        "ax1.imshow(test_images['diagonals'], cmap='gray')\n",
        "ax1.set_title('Original Diagonals')\n",
        "ax1.axis('off')\n",
        "ax2.imshow(result, cmap='gray')\n",
        "ax2.set_title('After Averaging Filter')\n",
        "ax2.axis('off')\n",
        "plt.show()"
      ],
      "metadata": {
        "id": "WsK6pRhL_69i"
      },
      "execution_count": null,
      "outputs": []
    },
    {
      "cell_type": "code",
      "source": [
        "# Apply to square image with no padding\n",
        "print(f\"Input image dimensions: {test_images['square'].shape}\")\n",
        "result = convolve2d(test_images['square'], averaging_kernel, padding='valid')\n",
        "print(f\"Output image dimensions: {result.shape}\")\n",
        "\n",
        "fig, (ax1, ax2) = plt.subplots(1, 2, figsize=(10, 4))\n",
        "ax1.imshow(test_images['square'], cmap='gray')\n",
        "ax1.set_title('Original Square')\n",
        "ax1.axis('off')\n",
        "ax2.imshow(result, cmap='gray')\n",
        "ax2.set_title('After Averaging Filter')\n",
        "ax2.axis('off')\n",
        "plt.show()"
      ],
      "metadata": {
        "id": "I-ulkwcw_41i"
      },
      "execution_count": null,
      "outputs": []
    },
    {
      "cell_type": "markdown",
      "metadata": {
        "id": "cJ6hVMdk_aO2"
      },
      "source": [
        "## Part 2: Classic Edge Detection Filters\n",
        "\n",
        "### Sobel Operators\n",
        "The Sobel operator uses two 3×3 kernels to detect edges in horizontal and vertical directions."
      ]
    },
    {
      "cell_type": "code",
      "execution_count": null,
      "metadata": {
        "id": "piO9LtUQ_aO2"
      },
      "outputs": [],
      "source": [
        "# Define Sobel operators\n",
        "sobel_x = np.array([[-1, 0, 1],\n",
        "                    [-2, 0, 2],\n",
        "                    [-1, 0, 1]], dtype=np.float32)\n",
        "\n",
        "sobel_y = np.array([[-1, -2, -1],\n",
        "                    [ 0,  0,  0],\n",
        "                    [ 1,  2,  1]], dtype=np.float32)\n",
        "\n",
        "print(\"Sobel X (Vertical Edge Detector):\")\n",
        "print(sobel_x)\n",
        "print(\"\\nSobel Y (Horizontal Edge Detector):\")\n",
        "print(sobel_y)"
      ]
    },
    {
      "cell_type": "code",
      "execution_count": null,
      "metadata": {
        "id": "titE4mbO_aO2"
      },
      "outputs": [],
      "source": [
        "def apply_sobel_filters(image: np.ndarray) -> Tuple[np.ndarray, np.ndarray, np.ndarray]:\n",
        "    \"\"\"\n",
        "    Apply Sobel filters to detect edges.\n",
        "\n",
        "    Returns:\n",
        "        - Gradient in X direction\n",
        "        - Gradient in Y direction\n",
        "        - Gradient magnitude\n",
        "    \"\"\"\n",
        "    # Apply Sobel filters\n",
        "    grad_x = convolve2d(image, sobel_x, padding='same')\n",
        "    grad_y = convolve2d(image, sobel_y, padding='same')\n",
        "\n",
        "    # Compute gradient magnitude\n",
        "    grad_magnitude = np.sqrt(grad_x**2 + grad_y**2)\n",
        "\n",
        "    return grad_x, grad_y, grad_magnitude\n",
        "\n",
        "# Apply to different test images\n",
        "for img_name in ['lines', 'square', 'circle']:\n",
        "    img = test_images[img_name]\n",
        "    grad_x, grad_y, grad_mag = apply_sobel_filters(img)\n",
        "\n",
        "    fig, axes = plt.subplots(1, 4, figsize=(16, 4))\n",
        "\n",
        "    axes[0].imshow(img, cmap='gray')\n",
        "    axes[0].set_title(f'Original {img_name}')\n",
        "\n",
        "    axes[1].imshow(grad_x, cmap='RdBu_r')\n",
        "    axes[1].set_title('Sobel X (Vertical Edges)')\n",
        "\n",
        "    axes[2].imshow(grad_y, cmap='RdBu_r')\n",
        "    axes[2].set_title('Sobel Y (Horizontal Edges)')\n",
        "\n",
        "    axes[3].imshow(grad_mag, cmap='gray')\n",
        "    axes[3].set_title('Gradient Magnitude')\n",
        "\n",
        "    for ax in axes:\n",
        "        ax.axis('off')\n",
        "\n",
        "    plt.tight_layout()\n",
        "    plt.show()"
      ]
    },
    {
      "cell_type": "markdown",
      "metadata": {
        "id": "OouwtQfX_aO2"
      },
      "source": [
        "### Prewitt Operators\n",
        "Similar to Sobel but with equal weights."
      ]
    },
    {
      "cell_type": "code",
      "execution_count": null,
      "metadata": {
        "id": "j3FLCs7E_aO2"
      },
      "outputs": [],
      "source": [
        "# Define Prewitt operators\n",
        "prewitt_x = np.array([[-1, 0, 1],\n",
        "                      [-1, 0, 1],\n",
        "                      [-1, 0, 1]], dtype=np.float32)\n",
        "\n",
        "prewitt_y = np.array([[-1, -1, -1],\n",
        "                      [ 0,  0,  0],\n",
        "                      [ 1,  1,  1]], dtype=np.float32)\n",
        "\n",
        "# Compare Sobel vs Prewitt on the square image\n",
        "img = test_images['square']\n",
        "\n",
        "sobel_result = convolve2d(img, sobel_x, padding='same')\n",
        "prewitt_result = convolve2d(img, prewitt_x, padding='same')\n",
        "\n",
        "fig, axes = plt.subplots(1, 3, figsize=(12, 4))\n",
        "axes[0].imshow(img, cmap='gray')\n",
        "axes[0].set_title('Original')\n",
        "axes[1].imshow(sobel_result, cmap='RdBu_r')\n",
        "axes[1].set_title('Sobel X')\n",
        "axes[2].imshow(prewitt_result, cmap='RdBu_r')\n",
        "axes[2].set_title('Prewitt X')\n",
        "\n",
        "for ax in axes:\n",
        "    ax.axis('off')\n",
        "plt.tight_layout()\n",
        "plt.show()"
      ]
    },
    {
      "cell_type": "markdown",
      "metadata": {
        "id": "Kbgfx_hJ_aO2"
      },
      "source": [
        "## Part 3: Question 1 - Diagonal Edge Detection\n",
        "\n",
        "We can create filters to detect diagonal edges by rotating the Sobel pattern."
      ]
    },
    {
      "cell_type": "code",
      "execution_count": null,
      "metadata": {
        "id": "6u-gA2cY_aO2"
      },
      "outputs": [],
      "source": [
        "# Question 1: Define diagonal edge detection filters\n",
        "# ==================================================\n",
        "# Define the following attributes as np.array objects:\n",
        "# sobel_diag1 = ?\n",
        "# sobel_diag2 = ?\n",
        "\n",
        "\n",
        "\n",
        "# Test diagonal filters\n",
        "img = test_images['diagonals']\n",
        "\n",
        "diag1_result = convolve2d(img, sobel_diag1, padding='same')\n",
        "diag2_result = convolve2d(img, sobel_diag2, padding='same')\n",
        "\n",
        "fig, axes = plt.subplots(1, 4, figsize=(16, 4))\n",
        "axes[0].imshow(img, cmap='gray')\n",
        "axes[0].set_title('Original Diagonals')\n",
        "axes[1].imshow(diag1_result, cmap='RdBu_r')\n",
        "axes[1].set_title('Diagonal \\\\ Detection')\n",
        "axes[2].imshow(diag2_result, cmap='RdBu_r')\n",
        "axes[2].set_title('Diagonal / Detection')\n",
        "axes[3].imshow(np.abs(diag1_result) + np.abs(diag2_result), cmap='gray')\n",
        "axes[3].set_title('Both Diagonals')\n",
        "\n",
        "for ax in axes:\n",
        "    ax.axis('off')\n",
        "plt.tight_layout()\n",
        "plt.show()"
      ]
    },
    {
      "cell_type": "markdown",
      "metadata": {
        "id": "utgf1Etm_aO2"
      },
      "source": [
        "## Part 4: Questions 2 & 3 - Corner Detection\n",
        "\n",
        "**Task:** Create filters that can detect different types of corners (L-shapes).\n",
        "\n",
        "Think about what pattern would indicate a corner:\n",
        "- Top-left corner: High values in bottom and right, low elsewhere\n",
        "- Top-right corner: High values in bottom and left, low elsewhere\n",
        "- etc.\n",
        "\n",
        "Create four 3×3 filters to detect the four types of corners."
      ]
    },
    {
      "cell_type": "code",
      "execution_count": null,
      "metadata": {
        "id": "DGCR1yeQ_aO3"
      },
      "outputs": [],
      "source": [
        "# Question 2: Define corner detection filters\n",
        "# ===========================================\n",
        "# Hint: Think about the pattern of positive and negative values\n",
        "# that would respond strongly to an L-shaped corner\n",
        "#\n",
        "# Define the following attributes as np.array objects:\n",
        "# corner_top_left = ?\n",
        "# corner_top_right = ?\n",
        "# corner_bottom_left = ?\n",
        "# corner_bottom_right = ?"
      ]
    },
    {
      "cell_type": "code",
      "source": [
        "def visualize_corner_detection(img):\n",
        "    fig, axes = plt.subplots(2, 3, figsize=(12, 8))\n",
        "\n",
        "    # Original image\n",
        "    axes[0, 0].imshow(img, cmap='gray')\n",
        "    axes[0, 0].set_title('Original Corners')\n",
        "\n",
        "    # Apply each corner filter\n",
        "    corner_filters = [\n",
        "        (corner_top_left, 'Top-Left'),\n",
        "        (corner_top_right, 'Top-Right'),\n",
        "        (corner_bottom_left, 'Bottom-Left'),\n",
        "        (corner_bottom_right, 'Bottom-Right')\n",
        "    ]\n",
        "\n",
        "    for idx, (filter_kernel, name) in enumerate(corner_filters):\n",
        "        result = convolve2d(img, filter_kernel, padding='same')\n",
        "        row = (idx + 1) // 3\n",
        "        col = (idx + 1) % 3\n",
        "        axes[row, col].imshow(result, cmap='RdBu_r')\n",
        "        axes[row, col].set_title(f'{name} Corner Detection')\n",
        "\n",
        "    # Combined result\n",
        "    all_corners = np.zeros_like(img, dtype=np.float32)\n",
        "    for filter_kernel, _ in corner_filters:\n",
        "        result = convolve2d(img, filter_kernel, padding='same')\n",
        "        all_corners = np.maximum(all_corners, result)\n",
        "\n",
        "    axes[1, 2].imshow(all_corners, cmap='hot')\n",
        "    axes[1, 2].set_title('All Corners Combined')\n",
        "\n",
        "    for ax in axes.flat:\n",
        "        ax.axis('off')\n",
        "\n",
        "    plt.tight_layout()\n",
        "    plt.show()"
      ],
      "metadata": {
        "id": "UGcur_bBat1F"
      },
      "execution_count": null,
      "outputs": []
    },
    {
      "cell_type": "code",
      "source": [
        "# Test corner detection\n",
        "img = test_images['corners']\n",
        "visualize_corner_detection(img)"
      ],
      "metadata": {
        "id": "ZGw8CfUpa2qZ"
      },
      "execution_count": null,
      "outputs": []
    },
    {
      "cell_type": "markdown",
      "source": [
        "### Do your filters work well for the square image?\n",
        "\n",
        "Remember, only the edges or corners should be highlighted, not the inside of the square!"
      ],
      "metadata": {
        "id": "ZY8n4JMUa80u"
      }
    },
    {
      "cell_type": "code",
      "source": [
        "img = test_images['square']\n",
        "visualize_corner_detection(img)"
      ],
      "metadata": {
        "id": "HpTEbr5Ga7BA"
      },
      "execution_count": null,
      "outputs": []
    },
    {
      "cell_type": "markdown",
      "source": [
        "**If not, adapt your filters so they do!**"
      ],
      "metadata": {
        "id": "doDNP14Tb0Lw"
      }
    },
    {
      "cell_type": "code",
      "source": [
        "# Question 3: Full Corner Detection\n",
        "# =================================\n",
        "#\n",
        "# Re-define the filters to work for full corners:\n",
        "# corner_top_left = ?\n",
        "# corner_top_right = ?\n",
        "# corner_bottom_left = ?\n",
        "# corner_bottom_right = ?\n",
        "\n",
        "\n",
        "# Test corner detection\n",
        "img = test_images['square']\n",
        "visualize_corner_detection(img)"
      ],
      "metadata": {
        "id": "PhrUwYhraGPO"
      },
      "execution_count": null,
      "outputs": []
    },
    {
      "cell_type": "markdown",
      "metadata": {
        "id": "25vkYQLo_aO3"
      },
      "source": [
        "## Part 5: Question 4 - Custom Feature Detection\n",
        "\n",
        "**Task:** Design a filter that detects circular edges (like the outline of a circle).\n",
        "\n",
        "Hint: Think about what makes a circular edge different from straight edges.\n",
        "You might want to use a larger kernel (5×5) for better circular pattern detection."
      ]
    },
    {
      "cell_type": "code",
      "execution_count": null,
      "metadata": {
        "id": "Pu5pJOpw_aO3"
      },
      "outputs": [],
      "source": [
        "# Question 4: Create a filter for circular edge detection\n",
        "# =======================================================\n",
        "# This is more challenging - think about radial gradients\n",
        "# Define the following attribute as an np.array object:\n",
        "# log_filter = ?\n",
        "#\n",
        "# HINT: If you get stuck, search for Laplacian of Gaussian\n",
        "# (but try figuring it out alone first!).\n",
        "\n",
        "\n",
        "\n",
        "# Test circular edge detection\n",
        "img = test_images['circle']\n",
        "\n",
        "# Apply filter\n",
        "log_result = convolve2d(img, log_filter, padding='same')\n",
        "\n",
        "# Also try edge detection first, then circular pattern\n",
        "edges_x, edges_y, edges_mag = apply_sobel_filters(img)\n",
        "\n",
        "fig, axes = plt.subplots(1, 3, figsize=(12, 8))\n",
        "\n",
        "axes[0].imshow(img, cmap='gray')\n",
        "axes[0].set_title('Original Circle')\n",
        "\n",
        "axes[1].imshow(edges_mag, cmap='gray')\n",
        "axes[1].set_title('Sobel Edge Magnitude')\n",
        "\n",
        "axes[2].imshow(log_result, cmap='RdBu_r')\n",
        "axes[2].set_title('Laplacian of Gaussian')\n",
        "\n",
        "# Threshold to show detected circles\n",
        "for ax in axes.flat:\n",
        "    ax.axis('off')\n",
        "\n",
        "plt.tight_layout()\n",
        "plt.show()"
      ]
    },
    {
      "cell_type": "markdown",
      "metadata": {
        "id": "Nzii_3Br_aO3"
      },
      "source": [
        "## Part 6: Real Image Application\n",
        "\n",
        "Let's apply our filters to a real image to see how they work in practice."
      ]
    },
    {
      "cell_type": "code",
      "source": [
        "# Load a real image\n",
        "# Using a simple geometric image for clarity\n",
        "def create_real_test_image():\n",
        "    \"\"\"Create a more complex test image with multiple features.\"\"\"\n",
        "    img = np.zeros((200, 200), dtype=np.float32)\n",
        "\n",
        "    # Add various features\n",
        "    # Rectangle\n",
        "    img[50:100, 30:80] = 200\n",
        "\n",
        "    # Circle\n",
        "    center = (150, 60)\n",
        "    y, x = np.ogrid[:200, :200]\n",
        "    mask = (x - center[0])**2 + (y - center[1])**2 <= 30**2\n",
        "    img[mask] = 150\n",
        "\n",
        "    # Triangle\n",
        "    for i in range(40):\n",
        "        for j in range(i):\n",
        "            img[140 + i, 100 + j - i//2] = 180\n",
        "\n",
        "    # Add some noise\n",
        "    noise = np.random.normal(0, 10, img.shape)\n",
        "    img = img + noise\n",
        "    img = np.clip(img, 0, 255)\n",
        "\n",
        "    return img"
      ],
      "metadata": {
        "id": "4rGrLzugZZVX"
      },
      "execution_count": null,
      "outputs": []
    },
    {
      "cell_type": "code",
      "source": [
        "real_img = create_real_test_image()"
      ],
      "metadata": {
        "id": "wXU-uq0wZaNy"
      },
      "execution_count": null,
      "outputs": []
    },
    {
      "cell_type": "code",
      "source": [
        "plt.figure(figsize=(6, 6))\n",
        "plt.imshow(real_img, cmap='gray')\n",
        "plt.title('Real Test Image')\n",
        "plt.axis('off')\n",
        "plt.show()"
      ],
      "metadata": {
        "id": "pA7o-h3IZfPz"
      },
      "execution_count": null,
      "outputs": []
    },
    {
      "cell_type": "code",
      "execution_count": null,
      "metadata": {
        "id": "LJs1nt3A_aO3"
      },
      "outputs": [],
      "source": [
        "# Apply various filters\n",
        "filters = {\n",
        "    'Sobel X': sobel_x,\n",
        "    'Sobel Y': sobel_y,\n",
        "    'Laplacian': np.array([[0, -1, 0], [-1, 4, -1], [0, -1, 0]]),\n",
        "    'Sharpening': np.array([[0, -1, 0], [-1, 5, -1], [0, -1, 0]]),\n",
        "    'Gaussian Blur': np.ones((5, 5)) / 25\n",
        "}\n",
        "\n",
        "fig, axes = plt.subplots(2, 3, figsize=(12, 8))\n",
        "axes = axes.flatten()\n",
        "\n",
        "axes[0].imshow(real_img, cmap='gray')\n",
        "axes[0].set_title('Original Image')\n",
        "axes[0].axis('off')\n",
        "\n",
        "for idx, (name, kernel) in enumerate(filters.items(), 1):\n",
        "    result = convolve2d(real_img, kernel, padding='same')\n",
        "    axes[idx].imshow(result, cmap='gray' if 'Blur' in name or 'Sharp' in name else 'RdBu_r')\n",
        "    axes[idx].set_title(name)\n",
        "    axes[idx].axis('off')\n",
        "\n",
        "plt.tight_layout()\n",
        "plt.show()"
      ]
    },
    {
      "cell_type": "markdown",
      "metadata": {
        "id": "a9lFOk-O_aO3"
      },
      "source": [
        "## Summary and Key Takeaways\n",
        "\n",
        "1. **Convolution** is a fundamental operation that slides a kernel over an image\n",
        "2. **Different kernels detect different features:**\n",
        "   - Sobel/Prewitt: Edge detection\n",
        "   - Laplacian: Second derivatives, blob detection\n",
        "   - Custom kernels: Specific pattern detection\n",
        "\n",
        "3. **Edge detection** forms the basis of many computer vision algorithms\n",
        "4. **Feature hierarchies:** Simple features (edges) combine to form complex features\n",
        "\n",
        "### Connection to CNNs:\n",
        "- CNNs **learn** these kernels automatically from data\n",
        "- Early CNN layers often learn edge detectors similar to Sobel\n",
        "- Deeper layers learn more complex feature detectors\n",
        "- The power of CNNs: discovering optimal features for the task\n",
        "\n",
        "### Next Steps:\n",
        "In the main hands-on session, we'll see how PyTorch implements these convolutions efficiently and how CNNs learn these filters automatically!"
      ]
    },
    {
      "cell_type": "markdown",
      "metadata": {
        "id": "QNKhmjj2_aO3"
      },
      "source": [
        "## Filter Visualization\n",
        "\n",
        "Here is a function that visualizes what each filter is \"looking for\" by showing its positive and negative components separately."
      ]
    },
    {
      "cell_type": "code",
      "execution_count": null,
      "metadata": {
        "id": "_C4pqwI9_aO3"
      },
      "outputs": [],
      "source": [
        "def visualize_filter(kernel, title=\"Filter\"):\n",
        "    \"\"\"Visualize a filter kernel showing positive and negative parts.\"\"\"\n",
        "    fig, axes = plt.subplots(1, 3, figsize=(10, 3))\n",
        "\n",
        "    # Full kernel\n",
        "    im1 = axes[0].imshow(kernel, cmap='RdBu_r', vmin=-np.abs(kernel).max(), vmax=np.abs(kernel).max())\n",
        "    axes[0].set_title(f'{title} - Full')\n",
        "    plt.colorbar(im1, ax=axes[0], fraction=0.046)\n",
        "\n",
        "    # Positive parts\n",
        "    positive = np.maximum(kernel, 0)\n",
        "    im2 = axes[1].imshow(positive, cmap='Reds')\n",
        "    axes[1].set_title('Positive Weights')\n",
        "    plt.colorbar(im2, ax=axes[1], fraction=0.046)\n",
        "\n",
        "    # Negative parts\n",
        "    negative = np.minimum(kernel, 0)\n",
        "    im3 = axes[2].imshow(negative, cmap='Blues_r')\n",
        "    axes[2].set_title('Negative Weights')\n",
        "    plt.colorbar(im3, ax=axes[2], fraction=0.046)\n",
        "\n",
        "    for ax in axes:\n",
        "        ax.set_xticks(range(kernel.shape[1]))\n",
        "        ax.set_yticks(range(kernel.shape[0]))\n",
        "        ax.grid(True, alpha=0.3)\n",
        "\n",
        "    plt.tight_layout()\n",
        "    plt.show()"
      ]
    },
    {
      "cell_type": "code",
      "source": [
        "# Visualize all our edge detection filters\n",
        "visualize_filter(sobel_x, \"Sobel X\")\n",
        "visualize_filter(sobel_y, \"Sobel Y\")\n",
        "visualize_filter(sobel_diag1, \"Diagonal 1\")\n",
        "visualize_filter(corner_top_left, \"Corner Top-Left\")"
      ],
      "metadata": {
        "id": "4h7vckVeBl9b"
      },
      "execution_count": null,
      "outputs": []
    },
    {
      "cell_type": "code",
      "source": [],
      "metadata": {
        "id": "5drbncsUX_WI"
      },
      "execution_count": null,
      "outputs": []
    }
  ],
  "metadata": {
    "kernelspec": {
      "display_name": "Python 3",
      "language": "python",
      "name": "python3"
    },
    "language_info": {
      "codemirror_mode": {
        "name": "ipython",
        "version": 3
      },
      "file_extension": ".py",
      "mimetype": "text/x-python",
      "name": "python",
      "nbconvert_exporter": "python",
      "pygments_lexer": "ipython3",
      "version": "3.8.0"
    },
    "colab": {
      "provenance": []
    }
  },
  "nbformat": 4,
  "nbformat_minor": 0
}